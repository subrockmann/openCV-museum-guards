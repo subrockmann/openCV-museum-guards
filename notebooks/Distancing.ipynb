{
 "metadata": {
  "language_info": {
   "codemirror_mode": {
    "name": "ipython",
    "version": 3
   },
   "file_extension": ".py",
   "mimetype": "text/x-python",
   "name": "python",
   "nbconvert_exporter": "python",
   "pygments_lexer": "ipython3",
   "version": "3.8.8"
  },
  "orig_nbformat": 2,
  "kernelspec": {
   "name": "python388jvsc74a57bd082d0c28df8a18a0ceda9728b16c4a83f7388ad0c2541f57bc0459a08dfebae76",
   "display_name": "Python 3.8.8 64-bit ('openvino': conda)"
  }
 },
 "nbformat": 4,
 "nbformat_minor": 2,
 "cells": [
  {
   "cell_type": "code",
   "execution_count": 1,
   "metadata": {},
   "outputs": [],
   "source": [
    "import logging\n",
    "import uuid\n",
    "import sys\n",
    "from pathlib import Path\n",
    "\n",
    "import cv2\n",
    "import depthai as dai # access the camera and its data packets\n",
    "#from imutils.video import FPS"
   ]
  },
  {
   "cell_type": "code",
   "execution_count": 2,
   "metadata": {},
   "outputs": [],
   "source": [
    "log = logging.getLogger(__name__)"
   ]
  },
  {
   "cell_type": "code",
   "execution_count": 3,
   "metadata": {},
   "outputs": [],
   "source": [
    "model_name= \"mobilenet-ssd_openvino_2021.2_6shave.blob\""
   ]
  },
  {
   "cell_type": "code",
   "execution_count": 4,
   "metadata": {},
   "outputs": [
    {
     "output_type": "stream",
     "name": "stdout",
     "text": [
      "h:\\openCV-museum-guards\\models\\mobilenet-ssd_openvino_2021.2_6shave.blob\n"
     ]
    }
   ],
   "source": [
    "models_folder = Path.cwd().parent.joinpath('models')\n",
    "nn_path = str(Path(models_folder).joinpath(model_name))\n",
    "print(nn_path)"
   ]
  },
  {
   "cell_type": "code",
   "execution_count": 5,
   "metadata": {},
   "outputs": [],
   "source": [
    "# Start defining a pipeline\n",
    "pipeline = dai.Pipeline()"
   ]
  },
  {
   "cell_type": "code",
   "execution_count": 6,
   "metadata": {},
   "outputs": [],
   "source": [
    "# Define a source - color camera\n",
    "cam_rgb = pipeline.createColorCamera()\n",
    "cam_rgb.setPreviewSize(300, 300)\n",
    "cam_rgb.setBoardSocket(dai.CameraBoardSocket.RGB)\n",
    "cam_rgb.setResolution(dai.ColorCameraProperties.SensorResolution.THE_1080_P)\n",
    "cam_rgb.setInterleaved(False)\n",
    "cam_rgb.setColorOrder(dai.ColorCameraProperties.ColorOrder.RGB)\n",
    "\n",
    "# Create output\n",
    "xout_rgb = pipeline.createXLinkOut()\n",
    "xout_rgb.setStreamName(\"rgb_preview_out\")\n",
    "cam_rgb.preview.link(xout_rgb.input)"
   ]
  },
  {
   "cell_type": "code",
   "execution_count": 9,
   "metadata": {},
   "outputs": [],
   "source": [
    "# Define a source - two mono (grayscale) cameras\n",
    "left = pipeline.createMonoCamera()\n",
    "left.setResolution(dai.MonoCameraProperties.SensorResolution.THE_400_P)\n",
    "left.setBoardSocket(dai.CameraBoardSocket.LEFT)\n",
    "\n",
    "right = pipeline.createMonoCamera()\n",
    "right.setResolution(dai.MonoCameraProperties.SensorResolution.THE_400_P)\n",
    "right.setBoardSocket(dai.CameraBoardSocket.RIGHT)\n",
    "\n",
    "# Create a node that will produce the depth map (using disparity output as it's easier to visualize depth this way) # TODO: understand why disparity output is easier to visualize\n",
    "depth = pipeline.createStereoDepth()\n",
    "depth.setConfidenceThreshold(200) # TODO:  what are the different values for this threshold?\n",
    "left.out.link(depth.left)\n",
    "right.out.link(depth.right)\n",
    "\n",
    "# Create output for disparity\n",
    "xout = pipeline.createXLinkOut()\n",
    "xout.setStreamName(\"disparity\")\n",
    "depth.disparity.link(xout.input)\n",
    "\n",
    "# Create output for depth\n",
    "depthout = pipeline.createXLinkOut()\n",
    "depthout.setStreamName(\"depth\")\n",
    "depth.depth.link(depthout.input)"
   ]
  },
  {
   "cell_type": "code",
   "execution_count": 7,
   "metadata": {},
   "outputs": [],
   "source": [
    "# Define a neural network that will make predictions based on the source frames\n",
    "nn = pipeline.createMobileNetDetectionNetwork()\n",
    "nn.setConfidenceThreshold(0.5) # TODO: create variable\n",
    "nn.setBlobPath(nn_path)\n",
    "nn.setNumInferenceThreads(2) # TODO: learn more about the number of inference threads\n",
    "nn.input.setBlocking(False) # TODO: learn about setBlocking True vs. False"
   ]
  },
  {
   "cell_type": "code",
   "execution_count": 13,
   "metadata": {},
   "outputs": [],
   "source": [
    "# Create a node to convert the grayscale frame into the nn-acceptable form\n",
    "manip = pipeline.createImageManip()\n",
    "manip.initialConfig.setResize(300, 300)\n",
    "# The NN model expects BGR input. By default ImageManip output type would be same as input (gray in this case)\n",
    "manip.initialConfig.setFrameType(dai.RawImgFrame.Type.BGR888p)\n",
    "right.out.link(manip.inputImage)\n",
    "manip.out.link(nn.input)\n",
    "\n",
    "# Create outputs\n",
    "manipOut = pipeline.createXLinkOut()\n",
    "manipOut.setStreamName(\"NN\")\n",
    "manip.out.link(manipOut.input)\n"
   ]
  },
  {
   "cell_type": "code",
   "execution_count": 11,
   "metadata": {},
   "outputs": [],
   "source": [
    "#output = pipeline.getAllAssets()"
   ]
  },
  {
   "cell_type": "code",
   "execution_count": 14,
   "metadata": {},
   "outputs": [
    {
     "output_type": "error",
     "ename": "error",
     "evalue": "OpenCV(4.5.1) c:\\users\\appveyor\\appdata\\local\\temp\\1\\pip-req-build-kh7iq4w7\\opencv\\modules\\imgproc\\src\\color.simd_helpers.hpp:92: error: (-2:Unspecified error) in function '__cdecl cv::impl::`anonymous-namespace'::CvtHelper<struct cv::impl::`anonymous namespace'::Set<3,4,-1>,struct cv::impl::A0x206ccf44::Set<3,4,-1>,struct cv::impl::A0x206ccf44::Set<0,2,5>,2>::CvtHelper(const class cv::_InputArray &,const class cv::_OutputArray &,int)'\n> Invalid number of channels in input image:\n>     'VScn::contains(scn)'\n> where\n>     'scn' is 300\n",
     "traceback": [
      "\u001b[1;31m---------------------------------------------------------------------------\u001b[0m",
      "\u001b[1;31merror\u001b[0m                                     Traceback (most recent call last)",
      "\u001b[1;32m<ipython-input-14-c3aec19f9261>\u001b[0m in \u001b[0;36m<module>\u001b[1;34m\u001b[0m\n\u001b[0;32m     18\u001b[0m         \u001b[0mrightFrame\u001b[0m \u001b[1;33m=\u001b[0m \u001b[0minRight\u001b[0m\u001b[1;33m.\u001b[0m\u001b[0mgetFrame\u001b[0m\u001b[1;33m(\u001b[0m\u001b[1;33m)\u001b[0m\u001b[1;33m\u001b[0m\u001b[1;33m\u001b[0m\u001b[0m\n\u001b[0;32m     19\u001b[0m         \u001b[0mrightFrame\u001b[0m \u001b[1;33m=\u001b[0m \u001b[0mcv2\u001b[0m\u001b[1;33m.\u001b[0m\u001b[0mflip\u001b[0m\u001b[1;33m(\u001b[0m\u001b[0mrightFrame\u001b[0m\u001b[1;33m,\u001b[0m \u001b[0mflipCode\u001b[0m\u001b[1;33m=\u001b[0m\u001b[1;36m1\u001b[0m\u001b[1;33m)\u001b[0m\u001b[1;33m\u001b[0m\u001b[1;33m\u001b[0m\u001b[0m\n\u001b[1;32m---> 20\u001b[1;33m         \u001b[0mcv2\u001b[0m\u001b[1;33m.\u001b[0m\u001b[0mimshow\u001b[0m\u001b[1;33m(\u001b[0m\u001b[1;34m\"rectified right\"\u001b[0m\u001b[1;33m,\u001b[0m \u001b[0mrightFrame\u001b[0m\u001b[1;33m)\u001b[0m\u001b[1;33m\u001b[0m\u001b[1;33m\u001b[0m\u001b[0m\n\u001b[0m\u001b[0;32m     21\u001b[0m \u001b[1;33m\u001b[0m\u001b[0m\n\u001b[0;32m     22\u001b[0m \u001b[1;33m\u001b[0m\u001b[0m\n",
      "\u001b[1;31merror\u001b[0m: OpenCV(4.5.1) c:\\users\\appveyor\\appdata\\local\\temp\\1\\pip-req-build-kh7iq4w7\\opencv\\modules\\imgproc\\src\\color.simd_helpers.hpp:92: error: (-2:Unspecified error) in function '__cdecl cv::impl::`anonymous-namespace'::CvtHelper<struct cv::impl::`anonymous namespace'::Set<3,4,-1>,struct cv::impl::A0x206ccf44::Set<3,4,-1>,struct cv::impl::A0x206ccf44::Set<0,2,5>,2>::CvtHelper(const class cv::_InputArray &,const class cv::_OutputArray &,int)'\n> Invalid number of channels in input image:\n>     'VScn::contains(scn)'\n> where\n>     'scn' is 300\n"
     ]
    }
   ],
   "source": [
    "# Pipeline defined, now the device is connected to\n",
    "with dai.Device(pipeline) as device:\n",
    "    # Start pipeline\n",
    "    device.startPipeline()\n",
    "\n",
    "    # Output queues will be used to get the grayscale / depth frames and nn data from the outputs defined above\n",
    "    rgb = device.getOutputQueue(\"rgb_preview_out\", maxSize=4, blocking=False)\n",
    "    qDisparity = device.getOutputQueue(\"disparity\", maxSize=4, blocking=False)\n",
    "    qDepth = device.getOutputQueue(\"depth\", maxSize=4, blocking=False)\n",
    "\n",
    "    rgbFrame = None\n",
    "    disparityFrame = None\n",
    "\n",
    "    while True:\n",
    "        inRight = rgb.get()\n",
    "        inDisparity = qDisparity.get()\n",
    "\n",
    "        rightFrame = inRight.getFrame()\n",
    "        rightFrame = cv2.flip(rightFrame, flipCode=1)\n",
    "        cv2.imshow(\"rectified right\", rightFrame)\n",
    "\n",
    "\n",
    "        #disparityFrame = inDisparity.getFrame()\n",
    "        #cv2.imshow(\"disparity\", disparityFrame)\n",
    "\n",
    "        if cv2.waitKey(1) == ord('q'):\n",
    "            cv2.destroyAllWindows()  # needed to avoid openCV from crashing\n",
    "            break"
   ]
  },
  {
   "cell_type": "code",
   "execution_count": null,
   "metadata": {},
   "outputs": [],
   "source": []
  }
 ]
}