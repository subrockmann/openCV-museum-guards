{
 "metadata": {
  "language_info": {
   "codemirror_mode": {
    "name": "ipython",
    "version": 3
   },
   "file_extension": ".py",
   "mimetype": "text/x-python",
   "name": "python",
   "nbconvert_exporter": "python",
   "pygments_lexer": "ipython3",
   "version": "3.8.8"
  },
  "orig_nbformat": 2,
  "kernelspec": {
   "name": "python388jvsc74a57bd082d0c28df8a18a0ceda9728b16c4a83f7388ad0c2541f57bc0459a08dfebae76",
   "display_name": "Python 3.8.8 64-bit ('openvino': conda)"
  }
 },
 "nbformat": 4,
 "nbformat_minor": 2,
 "cells": [
  {
   "cell_type": "code",
   "execution_count": 1,
   "metadata": {},
   "outputs": [],
   "source": [
    "import logging\n",
    "import uuid\n",
    "from pathlib import Path\n",
    "\n",
    "import cv2\n",
    "import depthai as dai # access the camera and its data packets\n",
    "#from imutils.video import FPS"
   ]
  },
  {
   "cell_type": "code",
   "execution_count": 2,
   "metadata": {},
   "outputs": [],
   "source": [
    "log = logging.getLogger(__name__)"
   ]
  },
  {
   "cell_type": "code",
   "execution_count": 3,
   "metadata": {},
   "outputs": [],
   "source": [
    "# Start defining a pipeline\n",
    "pipeline = dai.Pipeline()"
   ]
  },
  {
   "cell_type": "code",
   "execution_count": 4,
   "metadata": {},
   "outputs": [],
   "source": [
    "# Define a source - color camera\n",
    "cam_rgb = pipeline.createColorCamera()\n",
    "cam_rgb.setPreviewSize(300, 300)\n",
    "cam_rgb.setBoardSocket(dai.CameraBoardSocket.RGB)\n",
    "cam_rgb.setResolution(dai.ColorCameraProperties.SensorResolution.THE_1080_P)\n",
    "cam_rgb.setInterleaved(False)\n",
    "cam_rgb.setColorOrder(dai.ColorCameraProperties.ColorOrder.RGB)\n",
    "\n",
    "# Create output\n",
    "xout_rgb = pipeline.createXLinkOut()\n",
    "xout_rgb.setStreamName(\"rgb_preview_out\")\n",
    "cam_rgb.preview.link(xout_rgb.input)"
   ]
  },
  {
   "cell_type": "code",
   "execution_count": 5,
   "metadata": {},
   "outputs": [],
   "source": [
    "# Define a source - two mono (grayscale) cameras\n",
    "left = pipeline.createMonoCamera()\n",
    "left.setResolution(dai.MonoCameraProperties.SensorResolution.THE_400_P)\n",
    "left.setBoardSocket(dai.CameraBoardSocket.LEFT)\n",
    "\n",
    "right = pipeline.createMonoCamera()\n",
    "right.setResolution(dai.MonoCameraProperties.SensorResolution.THE_400_P)\n",
    "right.setBoardSocket(dai.CameraBoardSocket.RIGHT)\n",
    "\n",
    "# Create a node that will produce the depth map (using disparity output as it's easier to visualize depth this way)\n",
    "depth = pipeline.createStereoDepth()\n",
    "depth.setConfidenceThreshold(200) # TODO:  what are the different values for this threshold?\n",
    "left.out.link(depth.left)\n",
    "right.out.link(depth.right)\n",
    "\n",
    "# Create output\n",
    "xout = pipeline.createXLinkOut()\n",
    "xout.setStreamName(\"disparity\")\n",
    "depth.disparity.link(xout.input)"
   ]
  },
  {
   "cell_type": "code",
   "execution_count": 6,
   "metadata": {},
   "outputs": [],
   "source": [
    "output = pipeline.getAllAssets()"
   ]
  },
  {
   "cell_type": "code",
   "execution_count": 7,
   "metadata": {},
   "outputs": [],
   "source": [
    "# Pipeline defined, now the device is connected to\n",
    "with dai.Device(pipeline) as device:\n",
    "    # Start pipeline\n",
    "    device.startPipeline()\n",
    "\n",
    "    # Output queues will be used to get the grayscale / depth frames and nn data from the outputs defined above\n",
    "    rgb = device.getOutputQueue(\"rgb_preview_out\", maxSize=4, blocking=False)\n",
    "    qDisparity = device.getOutputQueue(\"disparity\", maxSize=4, blocking=False)\n",
    "\n",
    "    rgbFrame = None\n",
    "    disparityFrame = None\n",
    "\n",
    "    while True:\n",
    "        inRight = rgb.get()\n",
    "        inDisparity = qDisparity.get()\n",
    "\n",
    "        rightFrame = inRight.getFrame()q\n",
    "        rightFrame = cv2.flip(rightFrame, flipCode=1)\n",
    "        #cv2.imshow(\"rectified right\", rightFrame)\n",
    "\n",
    "\n",
    "        disparityFrame = inDisparity.getFrame()\n",
    "        cv2.imshow(\"disparity\", disparityFrame)\n",
    "\n",
    "        if cv2.waitKey(1) == ord('q'):\n",
    "            cv2.destroyAllWindows()  # needed to avoid openCV from crashing\n",
    "            break"
   ]
  },
  {
   "cell_type": "code",
   "execution_count": null,
   "metadata": {},
   "outputs": [],
   "source": []
  }
 ]
}